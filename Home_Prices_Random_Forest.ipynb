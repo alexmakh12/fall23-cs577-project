{
 "cells": [
  {
   "cell_type": "markdown",
   "id": "d446c09b",
   "metadata": {},
   "source": [
    "<h3 style=\"color:green\">Predicting Sale Price of Homes in King County, WA</h3>\n",
    "<h3 style=\"color:green\">Random Forest Model</h3><br><br>\n",
    "\n",
    "<h4 style=\"color:red; margin-top: 1px\">Team Members</h4>\n",
    "\n",
    "#### Alexandre Makhmudyantsev\n",
    "#### Brandon Nguyen\n",
    "#### Ryan Martin Elli Cervantes\n",
    "#### Triet Lieu<br><br>"
   ]
  },
  {
   "cell_type": "markdown",
   "id": "b3cb5199",
   "metadata": {},
   "source": [
    "<a id=\"load_section\"></a><p style=\"font-size: 20px; font-weight: bold; color:green\">Table of Contents</p>\n",
    "#### [Load Libraries & DataSet](#load)\n",
    "#### [Check For Missing Data](#check)\n",
    "#### [Plot Price & Grade](#plot)\n",
    "#### [Split Into Training & Test Subsets](#splitdataset)\n",
    "#### [Train Random Forests](#train)\n",
    "#### [Test & Measure Model](#test)"
   ]
  },
  {
   "cell_type": "markdown",
   "id": "967eb0ef",
   "metadata": {},
   "source": [
    "<a id=\"intro\"></a><p style=\"font-size: 20px; font-weight: bold; color:green\">Introduction</p>"
   ]
  },
  {
   "attachments": {},
   "cell_type": "markdown",
   "id": "2936bfea",
   "metadata": {},
   "source": [
    "<p style=\"font-size: 15px; line-height: 2;\">The dataset represents <b>21613 homes sold in King County</b>, WA state from the year of May 2014 to May 2015<br>\n",
    "19 columns (+ price response variable) hold the value of each home's features,<br>\n",
    "but several will not be used in the random forest model...\n",
    "\n",
    "- <b>date</b>: Outside of the scope of this study. Is factor of environment and not home\n",
    "- <b>sqft_living</b>: Sum of sqft_above and sqft_basement, so those 2 already contain sqft_living\n",
    "- <b>floors</b>: Number of floors is already contained in sqft_living\n",
    "- <b>yr_renovated</b>: Most entries will have zero value because those homes are not renovated\n",
    "- <b>lat[titude], long[itude], zipcode, date</b>: Miniscule variation in these features in this localed dataset\n",
    "    \n",
    "<p style=\"font-size: 15px; line-height: 2;\">King County, WA contains the city of Seattle and is majority suburb, so median incomes<br>and home prices border those of the median in America"
   ]
  },
  {
   "cell_type": "markdown",
   "id": "0b355c5a",
   "metadata": {},
   "source": [
    "<a id=\"load\"></a><p style=\"font-size: 20px; font-weight: bold; color:green\">Load Libraries & DataSet</p>"
   ]
  },
  {
   "cell_type": "code",
   "execution_count": null,
   "id": "9c098f83",
   "metadata": {},
   "outputs": [],
   "source": [
    "from __future__ import division, print_function\n",
    "import pandas as pd\n",
    "from pandas.plotting import scatter_matrix  \n",
    "import numpy as np  # arrays and math functions\n",
    "from scipy.stats import uniform  # for training-and-test split\n",
    "from sklearn.model_selection import train_test_split\n",
    "from sklearn.tree import DecisionTreeRegressor  # machine learning tree\n",
    "from sklearn.ensemble import RandomForestRegressor # ensemble method\n",
    "pd.set_option('display.float_format', lambda x: '%.3f' % x)\n",
    "\n",
    "homes = pd.read_csv(\"kc_house_data.csv\")"
   ]
  },
  {
   "cell_type": "code",
   "execution_count": null,
   "id": "1778997e",
   "metadata": {
    "scrolled": false
   },
   "outputs": [],
   "source": [
    "print(f\"All {len(homes.columns)} columns in kc_house_data.csv\")\n",
    "homes.columns"
   ]
  },
  {
   "cell_type": "code",
   "execution_count": null,
   "id": "fa2629c6",
   "metadata": {},
   "outputs": [],
   "source": [
    "del homes[\"sqft_living\"]\n",
    "del homes[\"floors\"]\n",
    "del homes[\"yr_renovated\"]\n",
    "del homes[\"lat\"]\n",
    "del homes[\"long\"]\n",
    "del homes[\"zipcode\"]\n",
    "\n",
    "homes.columns[1:] # Exclude id"
   ]
  },
  {
   "cell_type": "markdown",
   "id": "1603ad03",
   "metadata": {},
   "source": [
    "<a id=\"check\"></a><p style=\"font-size: 20px; font-weight: bold; color:green\">Check For Missing Data</p>"
   ]
  },
  {
   "cell_type": "code",
   "execution_count": null,
   "id": "7b3a0628",
   "metadata": {},
   "outputs": [],
   "source": [
    "counts = homes.isnull().sum()\n",
    "missing = pd.concat([counts], axis=1, keys=['counts'])\n",
    "print(missing[1:])\n",
    "print(\"\\nThere is \", end=\"\")\n",
    "print(\"\" if missing['counts'].sum() else \"no\", end=\"\")\n",
    "print(\" missing data\", end=\"\")"
   ]
  },
  {
   "cell_type": "markdown",
   "id": "ecb4885a",
   "metadata": {},
   "source": [
    "<a id=\"#plot\"></a><p style=\"font-size: 20px; font-weight: bold; color:green\">Plot Price & Grade</p>"
   ]
  },
  {
   "cell_type": "code",
   "execution_count": null,
   "id": "29e28424",
   "metadata": {},
   "outputs": [],
   "source": [
    "import seaborn as sns\n",
    "import matplotlib.pyplot as plt\n",
    "\n",
    "sns.set(rc={'figure.figsize':(10, 10)})\n",
    "\n",
    "mu = homes['price'].mean()\n",
    "sigma = homes['price'].std()\n",
    "plt.xlabel('Home Price')\n",
    "plt.ylabel('Frequency')\n",
    "\n",
    "plt.title(r'$\\mathrm{Price Distribution:}\\ \\mu=%.3f,\\ \\sigma=%.3f$'%(mu, sigma))\n",
    "sns.histplot(homes['price']);"
   ]
  },
  {
   "cell_type": "code",
   "execution_count": null,
   "id": "51ba459c",
   "metadata": {},
   "outputs": [],
   "source": [
    "sns.set(style=\"white\")\n",
    "fig = sns.boxplot(x='grade', y=\"price\", data=homes, color=\"red\")\n",
    "fig.axis(ymin=0, ymax=7e6);\n",
    "fig.set_ylabel(\"Price (Hundred-Thousand $)\")"
   ]
  },
  {
   "cell_type": "markdown",
   "id": "480f467b",
   "metadata": {},
   "source": [
    "<p style=\"font-size: 15px; line-height: 2;\">As expected, price increases as grade/construction quality increases<br>\n",
    "But also note, as grade increases, variance in prices for each grade widens"
   ]
  },
  {
   "cell_type": "markdown",
   "id": "4de514a3",
   "metadata": {},
   "source": [
    "<a id=\"splitdataset\"></a><p style=\"font-size: 20px; font-weight: bold; color:green\">Split Into Training & Test Subsets</p>"
   ]
  },
  {
   "cell_type": "markdown",
   "id": "7f4f34fb",
   "metadata": {},
   "source": [
    "<p style=\"font-size: 15px; line-height: 2;\">Use a 3:1 train:test ratio"
   ]
  },
  {
   "cell_type": "code",
   "execution_count": null,
   "id": "7300351b",
   "metadata": {},
   "outputs": [],
   "source": [
    "homes_train, homes_test = train_test_split(homes, test_size = 0.25)\n",
    "print(f\"There are {len(homes_train)} entires in the train set\")\n",
    "print(f\"There are  {len(homes_test)} entires in the test  set\")"
   ]
  },
  {
   "cell_type": "markdown",
   "id": "1c903993",
   "metadata": {},
   "source": [
    "<a id=\"train\"></a><p style=\"font-size: 20px; font-weight: bold; color:green\">Train Random Forests</p>"
   ]
  },
  {
   "cell_type": "code",
   "execution_count": null,
   "id": "170aff59",
   "metadata": {},
   "outputs": [],
   "source": [
    "tree_model = RandomForestRegressor(random_state = 9999)\n",
    "\n",
    "Y_train = homes_train.loc[:, ['price']]"
   ]
  },
  {
   "cell_type": "code",
   "execution_count": null,
   "id": "bb1e0f20",
   "metadata": {},
   "outputs": [],
   "source": [
    "# Unused features: floors, yr_renovated, sqft_living15, sqft_lot15\n",
    "\n",
    "X_train = homes_train.loc[:, ['bedrooms', 'bathrooms', 'sqft_lot', 'waterfront', 'view', 'condition', 'grade', 'sqft_above', 'sqft_basement', 'yr_built']]\n",
    "X_test  = homes_test .loc[:, ['bedrooms', 'bathrooms', 'sqft_lot', 'waterfront', 'view', 'condition', 'grade', 'sqft_above', 'sqft_basement', 'yr_built']]\n",
    "\n",
    "tree_model = tree_model.fit(X_train, Y_train.values.ravel())"
   ]
  },
  {
   "cell_type": "code",
   "execution_count": null,
   "id": "7bdd9813",
   "metadata": {},
   "outputs": [],
   "source": [
    "X_train['pred_price'] = tree_model.predict(X_train)\n",
    "\n",
    "train_result = round(np.power(homes_train['price'].corr(X_train['pred_price']), 2), 4)\n",
    "\n",
    "print('Train: Random Forest r^2 Accounted: ', train_result)"
   ]
  },
  {
   "cell_type": "markdown",
   "id": "18c0b67c",
   "metadata": {},
   "source": [
    "<a id=\"test\"></a><p style=\"font-size: 20px; font-weight: bold; color:green\">Test & Measure Model</p>"
   ]
  },
  {
   "cell_type": "code",
   "execution_count": null,
   "id": "2ebd80c9",
   "metadata": {},
   "outputs": [],
   "source": [
    "X_test['pred_price'] = tree_model.predict(X_test)\n",
    "\n",
    "test_result = round(np.power(homes_test['price'].corr(X_test['pred_price']), 2), 4)\n",
    "\n",
    "print('Test : Random Forest r^2 Accounted: ', test_result)"
   ]
  },
  {
   "cell_type": "code",
   "execution_count": null,
   "id": "b13cff5d",
   "metadata": {},
   "outputs": [],
   "source": [
    "plt.barh(X_train.columns[-2::-1], tree_model.feature_importances_[::-1])\n",
    "\n",
    "plt.ylabel(\"Feature\")\n",
    "plt.xlabel(\"r^2: Variance Explained\")\n",
    "plt.title(\"Feature Importance\")"
   ]
  }
 ],
 "metadata": {
  "kernelspec": {
   "display_name": "Python 3 (ipykernel)",
   "language": "python",
   "name": "python3"
  },
  "language_info": {
   "codemirror_mode": {
    "name": "ipython",
    "version": 3
   },
   "file_extension": ".py",
   "mimetype": "text/x-python",
   "name": "python",
   "nbconvert_exporter": "python",
   "pygments_lexer": "ipython3",
   "version": "3.9.12"
  }
 },
 "nbformat": 4,
 "nbformat_minor": 5
}
